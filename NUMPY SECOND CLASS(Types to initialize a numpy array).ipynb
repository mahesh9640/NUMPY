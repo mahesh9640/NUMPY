{
 "cells": [
  {
   "cell_type": "raw",
   "id": "bdf8546c-bf67-44cf-a2b9-10b1e9ebd37c",
   "metadata": {},
   "source": [
    "1.np array() : \n",
    "    --->We are creating the numpy array manually with help of np.array()\n",
    "    --->It will always take list as argument\n",
    "\n",
    "        SYNTAX: identifier/variable=np_array=np.array([e1,e2,e3,e4,e5])\n",
    "--->Numpy is fixed size.\n",
    "\n",
    "--->When we have 1 dimensional array we called it as vector.\n",
    "--->Number of subscript operators will decide the dimensional of numpy array\n",
    "        []--->1D\n",
    "        [[]]--->2D\n",
    "2.We are creating the numpy array using arrange():\n",
    "    --->We are creating the numpy array by specifying the values in the arguments\n",
    "    --->np.array(start,end,stepsize)\n",
    "    --->by default it starts with 0\n",
    "\n",
    "3.Creating numpy array using np.zeros()\n",
    "    --->It will create the numpy array with all elements zeros.\n",
    "    --->If we are giving the order of a matrix as a argument then we have to give it in the form of tuple.\n",
    "\n",
    "4.Creating the numpy array using np.ones()\n",
    "    --->It will create the numpy array with all elemetns one\n",
    "    --->If we are giving the order\n",
    "\n",
    "5.creating numpy array using np.eye()\n",
    "    --->It will make all the principal diagonal elements 1\n",
    "\n",
    "6.Creating numpy array using np.diag()\n",
    "    --->It will create the daigonal matrix\n",
    "    --->It will always takes the argument in the form of list.\n",
    "    --->For creating the matrix of the combinations of zeros and ones we have to create it manually\n",
    "    --->In case of diagonal matrix the result if element wise multipliation is the result of dot product.\n",
    "\n",
    "7.np.linespace():\n",
    "    --->It is used to create 1D numpy array--->generally we called it as (Vector).\n",
    "    --->It will create the values as per the limit.\n",
    "    --->And if we are not specifiying the equidistant points by default it will take 50 points.\n",
    "\n",
    "        Syntax: np.linespace(start,end,no_of_equidistant_points)\n",
    "\n",
    "8.Creating the numpy array using the np.random.rand():\n",
    "    --->It will create the random values array as per the limit according to the uniform distribution.\n",
    "    --->Uniform distribution each values has equally likley chance of getting selected.\n",
    "    --->It will take all the values less than or equals to zero because probabillity should not be greater than 1.\n",
    "        a1=np.random.rand(3,3)\n",
    "\n",
    "9.Creating the numpy array using the np.random.randn():\n",
    "    --->It will also gives the random values as per the standared normal variate(standared normal distribution)\n",
    "\n",
    "10.Creating the numpy array using the np.random.randint():\n",
    "    --->It will generate the numpy array with any random values as per the range.\n",
    "    ---> c=np.random.randint(start,end,no_of_elements) here no.of elements means the matrix formation.\n",
    "    ---> ex: c=np.random.randint(10,20,(3,3))\n",
    "\n",
    "11.Creating the numpy array using the np.copy():\n",
    "    --->It will give you the elements from one array to another array."
   ]
  },
  {
   "cell_type": "code",
   "execution_count": 1,
   "id": "567dab9a-0801-4119-bd0d-44af197f9c45",
   "metadata": {},
   "outputs": [
    {
     "name": "stdout",
     "output_type": "stream",
     "text": [
      "[0 1 2 3 4 5 6 7 8 9]\n",
      "[10 11 12 13 14 15 16 17 18 19]\n",
      "[10 13 16 19]\n"
     ]
    }
   ],
   "source": [
    "import numpy as np\n",
    "arr1=np.arange(0,10,1)\n",
    "arr2=np.arange(10,20)\n",
    "arr3=np.arange(10,20,3)\n",
    "print(arr1)\n",
    "print(arr2)\n",
    "print(arr3)"
   ]
  },
  {
   "cell_type": "markdown",
   "id": "9634e981-15c3-499d-8c70-7bb6df718b49",
   "metadata": {},
   "source": [
    "### Difference between list and numpy array"
   ]
  },
  {
   "cell_type": "raw",
   "id": "9f1c6de8-7d0c-48a2-a428-d4899417252e",
   "metadata": {},
   "source": [
    "LIST:\n",
    "    --->Collection of hetrogenous items.\n",
    "    --->List is a variable size.\n",
    "    --->List is not memory effecient because one item it is creating the two blocks of the memory.so we required every time one block extra memory for           each item.\n",
    "    --->Whenever we are storing the list in the memory, the item will be stored where-ever the space is avilable in the memory.\n",
    "    --->Matrix operations are slow in list.\n",
    "    --->To perfrom matrix operations  \n",
    "NUMPY:\n",
    "    --->Collection of similar kind of data items\n",
    "    --->It is of fixed size.\n",
    "    --->Where numpy array will be stored in the inside the memory in a consecutive manner.\n",
    "    --->So it is memory efficient.\n",
    "    --->numpy is more closer to the hardware.\n",
    "    --->Numpy is faster than the lie because it will follows spartial or temporalaspects of cache.\n",
    "    --->It is possible because of consecutive storing behaviour of numpy.\n",
    "    --->Matrix operations are faster in array because of vectorization.\n",
    "    --->In case of numpy array we dont need to itrerate the matrix so it is faster and effeicent."
   ]
  },
  {
   "cell_type": "markdown",
   "id": "4fedcd20-ccca-4fd1-9ac9-27704a30a9e1",
   "metadata": {},
   "source": [
    "### Aspects of cache:"
   ]
  },
  {
   "cell_type": "code",
   "execution_count": null,
   "id": "367b6ba0-33d9-4f99-9aa3-af016be1aa66",
   "metadata": {},
   "outputs": [],
   "source": [
    "Spatial:\n",
    "        --->Insted of loading one block load the consecutive block also.\n",
    "Temporal aspect:\n",
    "        --->Insted of loading consecutive block load the entire array."
   ]
  },
  {
   "cell_type": "code",
   "execution_count": 3,
   "id": "cc3db33f-f5f2-43e6-998a-f4e132157b03",
   "metadata": {},
   "outputs": [
    {
     "name": "stdout",
     "output_type": "stream",
     "text": [
      "[[4, 6], [8, 10]]\n"
     ]
    }
   ],
   "source": [
    "import numpy as np\n",
    "m1=[[1,2],[3,4]]\n",
    "m2=[[3,4],[5,6]]\n",
    "m3=[[0,0],[0,0]]\n",
    "for i in range(len(m1)):\n",
    "    for j in range(len(m2)):\n",
    "        m3[i][j]=m1[i][j]+m2[i][j]\n",
    "print(m3)"
   ]
  },
  {
   "cell_type": "code",
   "execution_count": 5,
   "id": "08221ea6-5c9a-4477-80ba-99515b4d70e2",
   "metadata": {},
   "outputs": [
    {
     "name": "stdout",
     "output_type": "stream",
     "text": [
      "[[ 6  8]\n",
      " [10 12]]\n",
      "2\n",
      "2\n",
      "<class 'numpy.ndarray'>\n",
      "<class 'numpy.ndarray'>\n"
     ]
    }
   ],
   "source": [
    "m1=np.array([[1,2],[3,4]])\n",
    "m2=np.array([[5,6],[7,8]])\n",
    "print(m1+m2)\n",
    "print(m1.ndim)\n",
    "print(m2.ndim)\n",
    "print(type(m1))\n",
    "print(type(m2))\n",
    "\n"
   ]
  },
  {
   "cell_type": "code",
   "execution_count": 7,
   "id": "b831f964-9a0e-487c-953c-a2b5e59c1d8d",
   "metadata": {},
   "outputs": [
    {
     "name": "stdout",
     "output_type": "stream",
     "text": [
      "[[ 4  6]\n",
      " [ 8 10]]\n",
      "2\n",
      "2\n",
      "<class 'numpy.ndarray'>\n",
      "<class 'numpy.ndarray'>\n"
     ]
    }
   ],
   "source": [
    "a1=np.array([[1,2],[3,4]])\n",
    "a2=np.array([[3,4],[5,6]])\n",
    "print(a1+a2)\n",
    "print(a1.ndim)\n",
    "print(a2.ndim)\n",
    "print(type(a1))\n",
    "print(type(a2))"
   ]
  },
  {
   "cell_type": "code",
   "execution_count": 31,
   "id": "24996e6e-6fea-4d36-8f87-ddd637ca6fb3",
   "metadata": {},
   "outputs": [
    {
     "name": "stdout",
     "output_type": "stream",
     "text": [
      "[[13, 16], [29, 36]]\n"
     ]
    }
   ],
   "source": [
    "### To do multiplication  number of rows * number of columns.\n",
    "import numpy as np\n",
    "m1=[[1,2],[3,4]]\n",
    "m2=[[3,4],[5,6]]\n",
    "m3=[[0,0],[0,0]]\n",
    "for i in range(len(m1)):\n",
    "    for j in range(len(m2)):\n",
    "        for k in range(len(m2)):\n",
    "            m3[i][j]+=m1[i][k]*m2[k][j]\n",
    "print(m3)"
   ]
  },
  {
   "cell_type": "code",
   "execution_count": 45,
   "id": "5c27628b-90bc-4be5-b64a-dc700baf09b8",
   "metadata": {},
   "outputs": [
    {
     "name": "stdout",
     "output_type": "stream",
     "text": [
      "[[2, 2], [2, 2]]\n"
     ]
    }
   ],
   "source": [
    "import numpy as np\n",
    "m1=[[1,2],[3,4]]\n",
    "m2=[[3,4],[5,6]]\n",
    "m3=[[0,0],[0,0]]\n",
    "for i in range(len(m1)):\n",
    "    for j in range(len(m2)):\n",
    "        m3[i][j]-=m1[i][j]-m2[i][j]\n",
    "print(m3)"
   ]
  },
  {
   "cell_type": "code",
   "execution_count": 47,
   "id": "202fc394-f95d-4a88-8284-abddc152765a",
   "metadata": {},
   "outputs": [
    {
     "name": "stdout",
     "output_type": "stream",
     "text": [
      "[0 1 2 3 4 5 6 7 8 9]\n",
      "[10 11 12 13 14 15 16 17 18 19]\n",
      "[10 13 16 19]\n"
     ]
    }
   ],
   "source": [
    "###Creating numpy array using np.arrange()\n",
    "\n",
    "import numpy as np\n",
    "arr1=np.arange(0,10,1)\n",
    "arr2=np.arange(10,20)\n",
    "arr3=np.arange(10,20,3)\n",
    "print(arr1)\n",
    "print(arr2)\n",
    "print(arr3)"
   ]
  },
  {
   "cell_type": "code",
   "execution_count": 49,
   "id": "9c4aa15f-02fd-4bdf-843b-a07330c105d1",
   "metadata": {},
   "outputs": [
    {
     "name": "stdout",
     "output_type": "stream",
     "text": [
      "[0. 0. 0. 0. 0. 0.]\n",
      "[[0. 0.]\n",
      " [0. 0.]]\n",
      "1\n",
      "2\n",
      "<class 'numpy.ndarray'>\n",
      "<class 'numpy.ndarray'>\n"
     ]
    }
   ],
   "source": [
    "### Creating the numpy as np.zeros()\n",
    "import numpy as np\n",
    "arr1=np.zeros(6)\n",
    "arr2=np.zeros((2,2))\n",
    "print(arr1)\n",
    "print(arr2)\n",
    "print(arr1.ndim)\n",
    "print(arr2.ndim)\n",
    "print(type(arr1))\n",
    "print(type(arr2))"
   ]
  },
  {
   "cell_type": "code",
   "execution_count": 9,
   "id": "b06ef690-2c0f-4698-99e6-6c4a2dc91db0",
   "metadata": {},
   "outputs": [
    {
     "name": "stdout",
     "output_type": "stream",
     "text": [
      "[1. 1. 1. 1. 1.]\n",
      "[[1. 1. 1.]\n",
      " [1. 1. 1.]\n",
      " [1. 1. 1.]]\n",
      "<class 'numpy.ndarray'>\n",
      "<class 'numpy.ndarray'>\n"
     ]
    }
   ],
   "source": [
    "### Creating the numpy as np.ones()\n",
    "\n",
    "import numpy as np\n",
    "arr3=np.ones(5)\n",
    "arr4=np.ones((3,3))\n",
    "print(arr3)\n",
    "print(arr4)\n",
    "print(type(arr3))\n",
    "print(type(arr4))"
   ]
  },
  {
   "cell_type": "code",
   "execution_count": 13,
   "id": "554e2d8e-9f9e-4b83-9952-d2f47eb21fa9",
   "metadata": {},
   "outputs": [
    {
     "name": "stdout",
     "output_type": "stream",
     "text": [
      "[[1. 0. 0. 0. 0.]\n",
      " [0. 1. 0. 0. 0.]\n",
      " [0. 0. 1. 0. 0.]\n",
      " [0. 0. 0. 1. 0.]\n",
      " [0. 0. 0. 0. 1.]]\n",
      "[[1. 0. 0.]\n",
      " [0. 1. 0.]\n",
      " [0. 0. 1.]]\n",
      "[[1. 0. 0. 0.]\n",
      " [0. 1. 0. 0.]\n",
      " [0. 0. 1. 0.]\n",
      " [0. 0. 0. 1.]]\n",
      "2\n",
      "2\n",
      "2\n",
      "<class 'numpy.ndarray'>\n",
      "<class 'numpy.ndarray'>\n",
      "<class 'numpy.ndarray'>\n"
     ]
    }
   ],
   "source": [
    "### Creating the numpy as np.eye() ### It will make all the diagonal elements 1\n",
    "import numpy as np\n",
    "arr6=np.eye(5)\n",
    "arr7=np.eye(3,3)\n",
    "arr8=np.eye(4,4)\n",
    "print(arr6)\n",
    "print(arr7)\n",
    "print(arr8)\n",
    "print(arr6.ndim)\n",
    "print(arr7.ndim)\n",
    "print(arr8.ndim)\n",
    "print(type(arr6))\n",
    "print(type(arr7))\n",
    "print(type(arr8))"
   ]
  },
  {
   "cell_type": "code",
   "execution_count": 21,
   "id": "801e3ee8-9d06-42d9-b100-ba01d608d9c6",
   "metadata": {},
   "outputs": [
    {
     "name": "stdout",
     "output_type": "stream",
     "text": [
      "2\n",
      "2\n",
      "[[1 0 0]\n",
      " [0 2 0]\n",
      " [0 0 3]]\n",
      "[[1 0 0 0 0]\n",
      " [0 2 0 0 0]\n",
      " [0 0 3 0 0]\n",
      " [0 0 0 4 0]\n",
      " [0 0 0 0 5]]\n",
      "<class 'numpy.ndarray'>\n",
      "<class 'numpy.ndarray'>\n"
     ]
    }
   ],
   "source": [
    "### Creating the numpy as np.diag()\n",
    "import numpy as np\n",
    "arr9=np.diag([1,2,3])\n",
    "arr10=np.diag([1,2,3,4,5])\n",
    "print(arr9.ndim)\n",
    "print(arr10.ndim)\n",
    "print(arr9)\n",
    "print(arr10)\n",
    "print(type(arr9))\n",
    "print(type(arr10))"
   ]
  },
  {
   "cell_type": "code",
   "execution_count": 27,
   "id": "aa2c0f02-7a3c-447c-a3e9-4b8a5dd505d8",
   "metadata": {},
   "outputs": [
    {
     "name": "stdout",
     "output_type": "stream",
     "text": [
      "[0.75897666 0.90267999 0.79713394 0.95691528 0.88794052]\n"
     ]
    }
   ],
   "source": [
    "#############Creating the numpy array using the np.random.rand():#####################\n",
    "### It will create the random values array as per the limit according to the uniform distribution.\n",
    "import numpy as np\n",
    "a=np.random.rand(5)\n",
    "print(a)"
   ]
  },
  {
   "cell_type": "code",
   "execution_count": 133,
   "id": "4236f8f9-db87-4b55-a0aa-1bb647d532c8",
   "metadata": {},
   "outputs": [
    {
     "name": "stdout",
     "output_type": "stream",
     "text": [
      "[[0.56910082 0.43393981 0.82519835]\n",
      " [0.60184678 0.57237074 0.89669701]\n",
      " [0.58685569 0.27121638 0.44246504]]\n"
     ]
    }
   ],
   "source": [
    "###############Creating the numpy array using the np.random.rand():#########################\n",
    "import numpy as np\n",
    "a1=np.random.rand(3,3)\n",
    "print(a1)"
   ]
  },
  {
   "cell_type": "code",
   "execution_count": 59,
   "id": "b3b15f26-5468-4745-b21d-7b518e046b79",
   "metadata": {},
   "outputs": [
    {
     "name": "stdout",
     "output_type": "stream",
     "text": [
      "[-0.72549019 -0.13232865 -0.66215643  0.55804273 -0.94000013]\n"
     ]
    }
   ],
   "source": [
    "############## Creating the numpy array using the np.random.randn(): \n",
    "\n",
    "# It will also gives the random values as per the standared normal variate(standared normal distribution)\n",
    "\n",
    "import numpy as np\n",
    "b=np.random.randn(5)\n",
    "print(b)"
   ]
  },
  {
   "cell_type": "code",
   "execution_count": 29,
   "id": "4a02602a-f617-47c4-910e-a55614a3eae0",
   "metadata": {},
   "outputs": [
    {
     "name": "stdout",
     "output_type": "stream",
     "text": [
      "[[18 18 11]\n",
      " [16 19 18]\n",
      " [12 18 14]]\n",
      "<class 'numpy.ndarray'>\n"
     ]
    }
   ],
   "source": [
    "############ Creating the numpy array using the np.random.randint(): ############################\n",
    "import numpy as np\n",
    "c=np.random.randint(10,20,(3,3))\n",
    "print(c)\n",
    "print(type(c))"
   ]
  },
  {
   "cell_type": "code",
   "execution_count": 37,
   "id": "95851a25-3496-450b-b6aa-35bad757a8aa",
   "metadata": {},
   "outputs": [
    {
     "name": "stdout",
     "output_type": "stream",
     "text": [
      "[1 2 3 4 5 6]\n",
      "<class 'numpy.ndarray'>\n"
     ]
    }
   ],
   "source": [
    "############ Creating the numpy array using the np.copy(): ###################################\n",
    "\n",
    "import numpy as np\n",
    "a1=np.array([1,2,3,4,5,6])\n",
    "a2=a1.copy()\n",
    "print(a2)\n",
    "print(type(a1))"
   ]
  },
  {
   "cell_type": "code",
   "execution_count": null,
   "id": "31eff7e3-6922-4920-8410-d616b49e08ac",
   "metadata": {},
   "outputs": [],
   "source": []
  }
 ],
 "metadata": {
  "kernelspec": {
   "display_name": "Python 3 (ipykernel)",
   "language": "python",
   "name": "python3"
  },
  "language_info": {
   "codemirror_mode": {
    "name": "ipython",
    "version": 3
   },
   "file_extension": ".py",
   "mimetype": "text/x-python",
   "name": "python",
   "nbconvert_exporter": "python",
   "pygments_lexer": "ipython3",
   "version": "3.12.7"
  }
 },
 "nbformat": 4,
 "nbformat_minor": 5
}
