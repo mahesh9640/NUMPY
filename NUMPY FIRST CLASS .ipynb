{
 "cells": [
  {
   "cell_type": "markdown",
   "id": "87a8f876-ce35-4aff-94e8-601c22d8e285",
   "metadata": {},
   "source": [
    "### NUMPY (Numerical Python)"
   ]
  },
  {
   "cell_type": "raw",
   "id": "3dec5a24-4032-4102-83cb-c30a4ab43cee",
   "metadata": {},
   "source": [
    "--->NUMPY IS  (IT IS A OPEN SOURCE AND FREEWARE)\n",
    "open source : code is available for everyone.\n",
    "Freeware: No cost"
   ]
  },
  {
   "cell_type": "raw",
   "id": "5dcd3348-a5f3-4734-b886-a2ad0dd6d392",
   "metadata": {},
   "source": [
    "--->It is an array.                                          \n",
    "--->And it is core python libraray.\n",
    "--->We are using the \"NUMPY\" to perform the complex operations.\n",
    "--->NUMPY is extension to multi dimensional array.\n",
    "--->Array is a collection of homogenous or similar kind of the data.\n",
    "Complex operations of multi dimensional array.\n",
    "    1.Performing the operations on higher dimensional array-complex operation.\n",
    "        --->In a machine learning each feature as a dimension.\n",
    "        --->Scalar: Only magnitude.\n",
    "        --->Vector: Magintude as well as direction(dimension).\n",
    "\n",
    "--->Dimennsionallity Reduction:\n",
    "        --->PCA,tSNE\n",
    "--->2.Complex matrix multiplicaton:\n",
    "        1.1D:Vector\n",
    "        2.2D:Matrix\n",
    "        3.3D:Cube\n",
    "        4.nD:tensors\n",
    "            a. Matrix Multiplication\n",
    "            --->noraml matrix multiplication: 0(n^3)\n",
    "            --->strances formula(12 formulas) : 0(n^3)\n",
    "            --->matrix chain multiplication: 0(n^3)\n",
    "            --->Because of the vectorization numpy perform the multiplication in a faster way.\n",
    "            b.inverse\n",
    "            c.rank----> NO.OF ROWS OR COLUMNS IN A MATRIX.\n",
    "            d.transpose\n",
    "            e.eigen values and eigen vectors\n",
    "            f.determinant\n",
    "\n",
    "        ===>LINEAR EQUATION\n",
    "        \n",
    "            a1x+b1y+c=0\n",
    "            a2x+b2y+c=0\n",
    "        1.Simultaneous equation\n",
    "        2.Inversion,Reduction---matrix.\n",
    "        3.LPP: Simplex method\n",
    "\n",
    "3.Numerical method and optimization:\n",
    "    --->In a +mathematics we have two kinds of method:\n",
    "        1.Analytical method:\n",
    "                    --->If we have a formailazation,method,therom, or axioms to solve a particular problem then we called it as analytical method.\n",
    "        2.Numerical method(It is a kind of procedure)\n",
    "                    ---> Approximation\n",
    "        3.Numerical Integration:\n",
    "        4.Scientific operations:\n",
    "        5.Vector computing: vector having both direction and magnitude.\n",
    "        6.Statistical operation:--->Way of solving the problem with the help of data"
   ]
  },
  {
   "cell_type": "markdown",
   "id": "455a06a9-1ea6-4f38-ad09-6e4f16c8d06a",
   "metadata": {},
   "source": [
    "### SYNTAX OF NUMPY:"
   ]
  },
  {
   "cell_type": "code",
   "execution_count": null,
   "id": "39c42753-5c4c-4d33-aef7-83b0d9872176",
   "metadata": {},
   "outputs": [],
   "source": [
    "--->For using the numpy we need to import it.\n",
    "SYNTAX:\n",
    "        import numpy as np\n",
    "\n",
    "import==keyword\n",
    "numpy=library name\n",
    "np=alias\n",
    "\n",
    "Installing numpy: pip install numpyc"
   ]
  },
  {
   "cell_type": "markdown",
   "id": "7f18c184-1df0-453c-8c25-e39064e5daa6",
   "metadata": {},
   "source": [
    "### CREATING NUMPY ARRAY:"
   ]
  },
  {
   "cell_type": "code",
   "execution_count": null,
   "id": "1117d4e7-8bcb-4916-982e-813738e568ec",
   "metadata": {},
   "outputs": [],
   "source": [
    "1.np array() : \n",
    "    --->We are creating the numpy array manually with help of np.array()\n",
    "    --->It will always take list as argument\n",
    "\n",
    "        SYNTAX: identifier/variable=np_array=np.array([e1,e2,e3,e4,e5])\n",
    "--->Numpy is fixed size.\n",
    "\n",
    "--->When we have 1 dimensional array we called it as vector.\n",
    "--->Number of subscript operators will decide the dimensional of numpy array\n",
    "        []--->1D\n",
    "        [[]]--->2D\n",
    "\n",
    "Syntax:\n",
    "        array_name.ndim"
   ]
  },
  {
   "cell_type": "code",
   "execution_count": 1,
   "id": "0d8e70f0-15f9-4e5a-af45-e4b4b10c60ac",
   "metadata": {},
   "outputs": [
    {
     "name": "stdout",
     "output_type": "stream",
     "text": [
      "[1 2 3 4 5]\n"
     ]
    },
    {
     "data": {
      "text/plain": [
       "1"
      ]
     },
     "execution_count": 1,
     "metadata": {},
     "output_type": "execute_result"
    }
   ],
   "source": [
    "import numpy as np\n",
    "np_array=np.array([1,2,3,4,5])\n",
    "print(np_array)\n",
    "np_array.ndim"
   ]
  },
  {
   "cell_type": "code",
   "execution_count": 12,
   "id": "420e943c-202c-4488-a056-a5924fdfbbeb",
   "metadata": {},
   "outputs": [
    {
     "data": {
      "text/plain": [
       "numpy.ndarray"
      ]
     },
     "execution_count": 12,
     "metadata": {},
     "output_type": "execute_result"
    }
   ],
   "source": [
    "type(np_array)"
   ]
  },
  {
   "cell_type": "code",
   "execution_count": 16,
   "id": "21eb6290-08f9-413f-9345-2089c7ee8e28",
   "metadata": {},
   "outputs": [
    {
     "data": {
      "text/plain": [
       "1"
      ]
     },
     "execution_count": 16,
     "metadata": {},
     "output_type": "execute_result"
    }
   ],
   "source": [
    "np_array.ndim ## ndim will gives you the no.of dimensions in the array."
   ]
  },
  {
   "cell_type": "code",
   "execution_count": 15,
   "id": "c2fa49ed-9804-40e3-85e1-7bef8e7730a2",
   "metadata": {},
   "outputs": [
    {
     "name": "stdout",
     "output_type": "stream",
     "text": [
      "[[1 2 3 4]\n",
      " [6 7 8 9]]\n",
      "2\n"
     ]
    },
    {
     "data": {
      "text/plain": [
       "numpy.ndarray"
      ]
     },
     "execution_count": 15,
     "metadata": {},
     "output_type": "execute_result"
    }
   ],
   "source": [
    "import numpy as np\n",
    "np_array2=np.array([[1,2,3,4],[6,7,8,9]])\n",
    "print(np_array2)  ## THESE IS THE 2 DIMENSION ( 1st is rows and 2nd is columns)\n",
    "print(np_array2.ndim)\n",
    "type(np_array2)"
   ]
  },
  {
   "cell_type": "code",
   "execution_count": 17,
   "id": "2e1c1fa1-b216-42f5-8440-f13eda1bb7cd",
   "metadata": {},
   "outputs": [
    {
     "name": "stdout",
     "output_type": "stream",
     "text": [
      "[[[1 2]\n",
      "  [3 4]\n",
      "  [5 6]\n",
      "  [7 8]]]\n",
      "3\n"
     ]
    }
   ],
   "source": [
    "import numpy as np\n",
    "np_array3=np.array([[[1,2],[3,4],[5,6],[7,8]]])\n",
    "print(np_array3)  ### THESE IS THE 3 DIMENSION\n",
    "type(np_array3)\n",
    "print(np_array3.ndim)\n"
   ]
  },
  {
   "cell_type": "code",
   "execution_count": 13,
   "id": "402ea569-64b6-48a5-8452-d016489847c4",
   "metadata": {
    "jp-MarkdownHeadingCollapsed": true
   },
   "outputs": [
    {
     "name": "stdout",
     "output_type": "stream",
     "text": [
      "[[[[ 1  2]\n",
      "   [ 3  4]\n",
      "   [ 5  6]\n",
      "   [ 7  8]\n",
      "   [ 9 10]]]]\n",
      "4\n",
      "<class 'numpy.ndarray'>\n"
     ]
    }
   ],
   "source": [
    "import numpy as np\n",
    "np_array4=np.array([[[[1,2],[3,4],[5,6],[7,8],[9,10]]]])\n",
    "print(np_array4)\n",
    "print(np_array4.ndim)\n",
    "print(type(np_array4))"
   ]
  },
  {
   "cell_type": "code",
   "execution_count": null,
   "id": "77978c76-f208-4067-9acd-f56413a8b4ff",
   "metadata": {},
   "outputs": [],
   "source": []
  }
 ],
 "metadata": {
  "kernelspec": {
   "display_name": "Python 3 (ipykernel)",
   "language": "python",
   "name": "python3"
  },
  "language_info": {
   "codemirror_mode": {
    "name": "ipython",
    "version": 3
   },
   "file_extension": ".py",
   "mimetype": "text/x-python",
   "name": "python",
   "nbconvert_exporter": "python",
   "pygments_lexer": "ipython3",
   "version": "3.12.7"
  }
 },
 "nbformat": 4,
 "nbformat_minor": 5
}
