{
 "cells": [
  {
   "cell_type": "raw",
   "id": "672fbc96-e580-4b64-bdbe-a95f80425ac7",
   "metadata": {},
   "source": [
    "1.ndim:\n",
    "    --->It will gives the dimensions of the numpy array.\n",
    "2.shape:\n",
    "    --->It will gives the order of the array.\n",
    "3.Size:\n",
    "    --->No.of elements present in the array.\n",
    "4.itemsize:\n",
    "    --->How much  memory each element of the array is occuping.\n",
    "5.dtype:\n",
    "    --->It will gives data type of the array.\n",
    "6.astype():\n",
    "    --->it is used for typecasting\n",
    "7.trace():\n",
    "    --->Sum of the diagonal elements of the array\n",
    "        Syntax: np.trace(array_name)\n"
   ]
  },
  {
   "cell_type": "code",
   "execution_count": 1,
   "id": "9b7ac128-9066-4b01-870e-b71fab2d72ef",
   "metadata": {},
   "outputs": [
    {
     "name": "stdout",
     "output_type": "stream",
     "text": [
      "2\n",
      "(2, 3)\n",
      "6\n",
      "4\n",
      "int32\n",
      "<built-in method trace of numpy.ndarray object at 0x000002F912F0B390>\n",
      "[[1. 2. 3.]\n",
      " [4. 5. 6.]]\n"
     ]
    }
   ],
   "source": [
    "import numpy as np\n",
    "a=np.array([[1,2,3],[4,5,6]])\n",
    "print(a.ndim)\n",
    "print(a.shape)\n",
    "print(a.size)\n",
    "print(a.itemsize) # bits\n",
    "print(a.dtype)\n",
    "print(a.trace)\n",
    "print(a.astype(\"float\"))"
   ]
  },
  {
   "cell_type": "code",
   "execution_count": 5,
   "id": "1e3bb35b-011b-456a-bd0b-3d419de149f3",
   "metadata": {},
   "outputs": [
    {
     "name": "stdout",
     "output_type": "stream",
     "text": [
      "[[1, 2, 3], [4, 5, 6], [7, 8, 9]]\n",
      "15\n",
      "15\n"
     ]
    }
   ],
   "source": [
    "array=([[1,2,3],[4,5,6],[7,8,9]])\n",
    "sum=0\n",
    "print(array)\n",
    "for i in range(len(array)):\n",
    "    for j in range(len(array)):\n",
    "        if i==j:\n",
    "            sum+=array[i][j]\n",
    "print(sum)\n",
    "print(np.trace(array))"
   ]
  },
  {
   "cell_type": "code",
   "execution_count": null,
   "id": "6a4613eb-2ec2-4e56-92d3-be357b88742a",
   "metadata": {},
   "outputs": [],
   "source": []
  },
  {
   "cell_type": "markdown",
   "id": "86b6d650-9503-45c1-88e1-f05246e0959d",
   "metadata": {},
   "source": [
    "### Methods:"
   ]
  },
  {
   "cell_type": "raw",
   "id": "c93755ef-77c3-4024-9950-28dac1fc568b",
   "metadata": {},
   "source": [
    "1.np_trace()\n",
    "    --->np.trace(array_name)\n",
    "2.Tranpose of a matrix:\n",
    "    -->Converting the rows of matrix into columns and columns into rows\n",
    "3.Inverse of matrix:\n",
    "    --->It will give the inverse of the matrix\n",
    "        np.linalg.inv(p)\n",
    "4.Determinant:\n",
    "    --->np.linalg.det(a)\n",
    "5.Rank():\n",
    "    --->It will gives the rank of matrix.\n",
    "    --->no.of linearly independent rows and columns in the matrix \n",
    "            np.linalg.matrix_rank(a)"
   ]
  },
  {
   "cell_type": "code",
   "execution_count": 21,
   "id": "b3bc25a6-24e1-4d11-b2c8-ca04a324ed58",
   "metadata": {},
   "outputs": [
    {
     "name": "stdout",
     "output_type": "stream",
     "text": [
      "[[1, 2], [4, 5]]\n",
      "-2.0000000000000004\n",
      "2\n"
     ]
    }
   ],
   "source": [
    "aa=([[1,2],[3,4]])\n",
    "b=[[0,0],[0,0]]\n",
    "for i in range(len(a)):\n",
    "    for j in range(len(a)):\n",
    "        b[i][j]+=(a[i][j])\n",
    "print(b)\n",
    "print(np.linalg.det(aa))\n",
    "print(np.linalg.matrix_rank(aa))"
   ]
  },
  {
   "cell_type": "markdown",
   "id": "640bb2a8-bc16-4abd-bb8f-fc675b908faa",
   "metadata": {},
   "source": [
    "### Scalar Operations:"
   ]
  },
  {
   "cell_type": "code",
   "execution_count": 60,
   "id": "e10968c4-98da-4c5f-aa03-7f16c369ab76",
   "metadata": {},
   "outputs": [
    {
     "name": "stdout",
     "output_type": "stream",
     "text": [
      "[2 3 4 5 6]\n",
      "[0 1 2 3 4]\n",
      "[1 2 3 4 5]\n",
      "[0 0 0 0 0]\n"
     ]
    }
   ],
   "source": [
    "a=np.array([1,2,3,4,5])\n",
    "print(a+1)\n",
    "print(a-1)\n",
    "print(a*1)\n",
    "print(a%1)"
   ]
  },
  {
   "cell_type": "code",
   "execution_count": null,
   "id": "c17ea397-d248-4c11-8c25-24051fd64c03",
   "metadata": {},
   "outputs": [],
   "source": []
  }
 ],
 "metadata": {
  "kernelspec": {
   "display_name": "Python 3 (ipykernel)",
   "language": "python",
   "name": "python3"
  },
  "language_info": {
   "codemirror_mode": {
    "name": "ipython",
    "version": 3
   },
   "file_extension": ".py",
   "mimetype": "text/x-python",
   "name": "python",
   "nbconvert_exporter": "python",
   "pygments_lexer": "ipython3",
   "version": "3.12.7"
  }
 },
 "nbformat": 4,
 "nbformat_minor": 5
}
