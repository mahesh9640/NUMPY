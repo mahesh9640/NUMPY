{
 "cells": [
  {
   "cell_type": "markdown",
   "id": "9214e4da-8c61-4708-9b14-d2c5fbe2d193",
   "metadata": {},
   "source": [
    "### Arthimatic operations on numpy\""
   ]
  },
  {
   "cell_type": "code",
   "execution_count": null,
   "id": "b203c61c-2380-4cbb-84cd-d9825128478e",
   "metadata": {},
   "outputs": [],
   "source": [
    "1.Matrix operations:\n",
    "        --->Addition \n",
    "        --->Subtraction\n",
    "        --->Multiplication\n",
    "            --->Cross(+)\n",
    "            --->Dot\n",
    "\n",
    "2.Arthimatic operations:\n",
    "        --->All the operations are done element wise\n",
    "        --->Addition(+)\n",
    "        --->Subtraction(-)\n",
    "        --->Multiplication(*)\n",
    "        --->Division(/)\n",
    "        --->Floor Divisions(//)\n",
    "        --->Power(**)\n",
    "\n",
    "3. Scaler Operations:\n",
    "        ---> All operations are done with a scaler.\n",
    "        ---> array+1\n",
    "        ---> np.ones((3,3))+1\n",
    "\n",
    "4.Relational Operator:\n",
    "        --->It is used to find the relation between the elements on the numpy array.\n",
    "        ---> >,<,<=,>=,!-----------it will compare element wise\n",
    "        --->np.array_equal(a1,a2)----it will compare array wise\n",
    "\n",
    "5.logical Operator:\n",
    "        --->We are using the logical operation to compare two or more expression.\n",
    "        --->all()\n",
    "                --->It will return true if every element is true\n",
    "                --->every non zero is considered as true\n",
    "        --->any():\n",
    "                --->If at least one true it will return true\n",
    "                --->np.any()\n",
    "        --->logical_or():\n",
    "                --->np.logical_or(a,b)\n",
    "                --->It will return true if any one values is true otherwise False\n",
    "        --->LOGICAL_AND():\n",
    "                --->np.logical_and(a,b)\n",
    "                --->It will return if both the values is true otherwise false\n",
    "\n",
    "6.Transcendental operations:\n",
    "        --->When we have a log,exp(e),trignomentry----\n",
    "        --->np.log(): It will give the log of each value present in the numpy array.\n",
    "        --->np.exp(): It is gving the exponential value of each elements of numpy array.\n",
    "        --->Trignomentry:\n",
    "                    --->np.sin()\n",
    "                        --->It will consider all the values in radian\n",
    "                    --->np.cos()\n",
    "            --->a=np.array([3,4,5,6])\n",
    "            --->np.sin(a)\n",
    "\n",
    "7.Sorting:\n",
    "        --->Sorting the element in ascending or descending order\n",
    "            1.np.sort()\n",
    "                --->It will sort in ascending order\n",
    "                --->It will not in-place sort\n",
    "                    --->a=np.array([1,4,7,-2,-4,0])\n",
    "                        b=np.sort(a)\n",
    "                            print(b)\n",
    "\n",
    "                        mat1=np.array([[11,7,-2],[4,-6,17],[-23,18,-34]])\n",
    "                        mat2=np.sort(mat1)\n",
    "                        print(mat2)\n",
    "\n",
    "\n",
    "                        mat1=np.array([[11,7,-2],[4,-6,17],[-23,18,-34]])\n",
    "                        mat2=np.sort(mat1)---->Row wise sorting\n",
    "                        mat3=np.sort(mat1,axis=0)----column wise sorting\n",
    "                        print(mat1)\n",
    "                        print(mat2)\n",
    "                        print(mat3)\n",
    "\n",
    "\n",
    "            2.np.argsort()\n",
    "                --->It will perform the sorting in the basis of index of the numpy array\n",
    "                a=np.array([1,4,7,-2,-4,0])\n",
    "                print(np.argsort(a))\n",
    "\n",
    "                        mat1=np.array([[11,7,-2],[4,-6,17],[-23,18,-34]])\n",
    "                        print(np.argsort(mat1))\n",
    "\n",
    "                        mat1=np.array([[11,7,-2],[4,-6,17],[-23,18,-34]])\n",
    "                        print(np.argsort(mat1,axis=0))\n",
    "\n",
    "\n",
    "            3.array.sort()\n",
    "                --->It will perform sorting\n",
    "                --->inplace sort\n",
    "                a=np.array([1,4,7,-2,-4,0])\n",
    "                print(a.sort())\n",
    "\n",
    "                       mat1=np.array([[11,7,-2],[4,-6,17],[-23,18,-34]])\n",
    "                       print(mat1.argsort()) \n",
    "\n",
    "\n",
    "8.Agrregation Operation:\n",
    "        --->sum():\n",
    "                -->np.sum(array)\n",
    "        --->max():\n",
    "                -->np.max(array)\n",
    "        --->min():\n",
    "                -->np.min(array)\n",
    "        --->argmax(): it will give you max index\n",
    "                -->np.argmax(array)\n",
    "        --->argmin():\n",
    "                -->np.argmin(array)\n",
    "\n",
    "9.Searching in numpy array:\n",
    "        --->1.)np.where(condition): It will return the index of the elements where the condition is true\n",
    "                a=np.array([3,4,5,1,7])\n",
    "                print(np.where(a>2))  ## here where a value is greater than 2 it is returing the index of that value.\n",
    "                print(np.where(a==2))\n",
    "                print(np.where(a==3)) output:\n",
    "        --->2.)np.nonzero(): It will return the index of the non-zero elements in the array.\n",
    "                SYNTAX: np.nonzero(array_name)\n",
    "        --->3.)np.extract(): It will return the element based on the condition:\n",
    "                SYNTAX: np.extract(condition,array_name)\n",
    "       \n",
    "10.Adding elements into array:\n",
    "        --->1.)np.append(): It is used to add the elemet in the numpy array.\n",
    "                        --->It will not make changes directly in exisiting array, we have to create a new array to see the changes.\n",
    "                        --->It is taking the extra array for append.\n",
    "                            SYNTAX: np.append(array,element)\n",
    "        --->2.)np.insert(): It will insert the element into numpy array at the particular position.\n",
    "                        --->But to see the changes we have create another numpy array.\n",
    "                            SYNTAX: np.insert(array_name,index,ite,)\n",
    "        --->3.)np.concatenate(): It is used to concatenate the numpy array to another numpy array.\n",
    "                            --->It will create a numpy array.\n",
    "                            SYNTAX: np.concatenate(array_name,([i1,i2,.....]))\n",
    "\n",
    "11.Reshaping:\n",
    "        --->It convert the one numpy array into another dimensions.\n",
    "            SYNTAX: array_name=np.array([]).reshape(x_dim,y_dim)\n",
    "                    array_name.reshape()\n",
    "        --->Condition:\n",
    "                    --->No.of elements before reshaping and after reshaping must be equal.\n",
    "--->If only one row present ina a matrix: row vector:(a*n)\n",
    "--->If only one column present in a matrix\n",
    "\n"
   ]
  },
  {
   "cell_type": "code",
   "execution_count": 3,
   "id": "73bfb6ec-90e5-4f62-9333-50056f503635",
   "metadata": {},
   "outputs": [
    {
     "name": "stdout",
     "output_type": "stream",
     "text": [
      "[[2. 2. 2.]\n",
      " [2. 2. 2.]\n",
      " [2. 2. 2.]]\n"
     ]
    }
   ],
   "source": [
    "### Sclar operation\n",
    "import numpy as np\n",
    "print(np.ones((3,3))+1)"
   ]
  },
  {
   "cell_type": "code",
   "execution_count": 1,
   "id": "96038cd7-82d1-42d9-875d-0d998f6e43c2",
   "metadata": {},
   "outputs": [
    {
     "name": "stdout",
     "output_type": "stream",
     "text": [
      "[False  True False  True False  True]\n",
      "[ 3  3  7  7 11 11]\n",
      "[-1  1 -1  1 -1  1]\n",
      "[ 2  2 12 12 30 30]\n",
      "[0.5        2.         0.75       1.33333333 0.83333333 1.2       ]\n",
      "-------------------------------\n",
      "<class 'numpy.ndarray'>\n",
      "<class 'numpy.ndarray'>\n"
     ]
    }
   ],
   "source": [
    "### Relational operator or compraision operator\n",
    "\n",
    "import numpy as np\n",
    "a1=np.array([1,2,3,4,5,6])\n",
    "a2=np.array([2,1,4,3,6,5])\n",
    "print(a1>a2)\n",
    "print(a1+a2)\n",
    "print(a1-a2)\n",
    "print(a1*a2)\n",
    "print(a1/a2)\n",
    "print(\"-------------------------------\")\n",
    "print(type(a1))\n",
    "print(type(a2))"
   ]
  },
  {
   "cell_type": "code",
   "execution_count": 7,
   "id": "98372dde-525c-47c7-829b-458f1526ac2f",
   "metadata": {},
   "outputs": [
    {
     "name": "stdout",
     "output_type": "stream",
     "text": [
      "True\n"
     ]
    }
   ],
   "source": [
    "a1 = [[0, 0], [0, 0]]\n",
    "def fun(a1):\n",
    "    for i in range(len(a1)):\n",
    "        for j in range(len(a1)):  \n",
    "            if a1[i][j]!=0:\n",
    "                return False  \n",
    "    return True  \n",
    "print(fun(a1))\n"
   ]
  },
  {
   "cell_type": "code",
   "execution_count": null,
   "id": "691cf5e0-68a2-42a0-bff8-15cc7a285717",
   "metadata": {},
   "outputs": [],
   "source": []
  },
  {
   "cell_type": "code",
   "execution_count": 3,
   "id": "a65b2860-7f54-4d38-a829-725103912431",
   "metadata": {},
   "outputs": [
    {
     "name": "stdout",
     "output_type": "stream",
     "text": [
      "[0.69314718 1.09861229 1.38629436 1.60943791 1.79175947       -inf]\n",
      "[  7.3890561   20.08553692  54.59815003 148.4131591  403.42879349\n",
      "   1.        ]\n"
     ]
    },
    {
     "name": "stderr",
     "output_type": "stream",
     "text": [
      "C:\\Users\\mahesh sai\\AppData\\Local\\Temp\\ipykernel_20116\\617833044.py:2: RuntimeWarning: divide by zero encountered in log\n",
      "  print(np.log(a))\n"
     ]
    }
   ],
   "source": [
    "a=np.array([2,3,4,5,6,0])\n",
    "print(np.log(a))\n",
    "print(np.exp(a)) ## It is taking the exponential value"
   ]
  },
  {
   "cell_type": "code",
   "execution_count": 34,
   "id": "96820ffc-94f7-44b5-a019-4ac32c8326cc",
   "metadata": {},
   "outputs": [
    {
     "data": {
      "text/plain": [
       "array([ 0.90929743,  0.14112001, -0.7568025 , -0.95892427, -0.2794155 ,\n",
       "        0.        ])"
      ]
     },
     "execution_count": 34,
     "metadata": {},
     "output_type": "execute_result"
    }
   ],
   "source": [
    "np.sin(a)"
   ]
  },
  {
   "cell_type": "code",
   "execution_count": 36,
   "id": "910a6e4e-a74e-465c-ba9e-77fc379de494",
   "metadata": {},
   "outputs": [
    {
     "data": {
      "text/plain": [
       "array([-0.41614684, -0.9899925 , -0.65364362,  0.28366219,  0.96017029,\n",
       "        1.        ])"
      ]
     },
     "execution_count": 36,
     "metadata": {},
     "output_type": "execute_result"
    }
   ],
   "source": [
    "np.cos(a)"
   ]
  },
  {
   "cell_type": "code",
   "execution_count": 42,
   "id": "a3d37a43-5f49-4234-8311-058ed86375dd",
   "metadata": {},
   "outputs": [
    {
     "name": "stdout",
     "output_type": "stream",
     "text": [
      "[-4 -2  0  1  4  7]\n",
      "[4 3 5 0 1 2]\n"
     ]
    }
   ],
   "source": [
    "import numpy as np\n",
    "a=np.array([1,4,7,-2,-4,0])\n",
    "b=np.sort(a)\n",
    "print(b)\n",
    "print(np.argsort(a))"
   ]
  },
  {
   "cell_type": "code",
   "execution_count": 5,
   "id": "56812971-1f3e-4c84-accc-5517e6d67f93",
   "metadata": {},
   "outputs": [
    {
     "name": "stdout",
     "output_type": "stream",
     "text": [
      "[[ 11   7  -2]\n",
      " [  4  -6  17]\n",
      " [-23  18 -34]]\n",
      "[[ -2   7  11]\n",
      " [ -6   4  17]\n",
      " [-34 -23  18]]\n",
      "[[-23  -6 -34]\n",
      " [  4   7  -2]\n",
      " [ 11  18  17]]\n"
     ]
    }
   ],
   "source": [
    "import numpy as np\n",
    "mat1=np.array([[11,7,-2],[4,-6,17],[-23,18,-34]])\n",
    "mat2=np.sort(mat1)#---->Row wise sorting\n",
    "mat3=np.sort(mat1,axis=0)#----column wise sorting\n",
    "print(mat1)\n",
    "print(mat2)\n",
    "print(mat3)\n"
   ]
  },
  {
   "cell_type": "code",
   "execution_count": 50,
   "id": "3a5ac2db-2aea-4edb-8a0d-1cea49433f46",
   "metadata": {},
   "outputs": [
    {
     "name": "stdout",
     "output_type": "stream",
     "text": [
      "[778  45  34  23  12   0  -2]\n",
      "[ -2   0  12  23  34  45 778]\n"
     ]
    }
   ],
   "source": [
    "### Sort function in reverse :\n",
    "a=np.array([12,45,-2,0,34,778,23])\n",
    "b=np.sort(a)[::-1]\n",
    "c=np.sort(a)\n",
    "print(b)\n",
    "print(c)"
   ]
  },
  {
   "cell_type": "code",
   "execution_count": 56,
   "id": "d6c193e0-5596-4d9b-9b22-64c830590339",
   "metadata": {},
   "outputs": [
    {
     "name": "stdout",
     "output_type": "stream",
     "text": [
      "(array([0, 1, 2, 4], dtype=int64),)\n",
      "(array([], dtype=int64),)\n",
      "(array([0], dtype=int64),)\n"
     ]
    }
   ],
   "source": [
    "### Searching in numpy array: It will return the index of the elements where the condition is true\n",
    "a=np.array([3,4,5,1,7])\n",
    "print(np.where(a>2))  ## here where \"a\" value is greater than 2 it is returing the index of that value.\n",
    "print(np.where(a==2))\n",
    "print(np.where(a==3))"
   ]
  },
  {
   "cell_type": "code",
   "execution_count": 58,
   "id": "0af6740d-a553-43bf-a1d9-70e660418ba0",
   "metadata": {},
   "outputs": [
    {
     "name": "stdout",
     "output_type": "stream",
     "text": [
      "(array([0, 1, 2, 4, 5], dtype=int64),)\n"
     ]
    }
   ],
   "source": [
    "### Searching in numpy array:\n",
    "\n",
    "### np.nonzero():\n",
    "\n",
    "###  SYNTAX: np.nonzero(array_name)\n",
    "\n",
    "### It will return the index of the non-zero elements in the array.\n",
    "\n",
    "import numpy as np\n",
    "b=np.array([2,3,4,0,5,6,0,0])\n",
    "print(np.nonzero(b))"
   ]
  },
  {
   "cell_type": "code",
   "execution_count": 62,
   "id": "dd156050-2f45-4d05-ac40-02120d052b9c",
   "metadata": {},
   "outputs": [
    {
     "data": {
      "text/plain": [
       "array([ 6, 11, 19, 20])"
      ]
     },
     "execution_count": 62,
     "metadata": {},
     "output_type": "execute_result"
    }
   ],
   "source": [
    "### Searching in numpy array:\n",
    "\n",
    "### np.extract():\n",
    "\n",
    "### SYNTAX: np.extract(condition,array_name)\n",
    "\n",
    "### It will return the element based on the condition:\n",
    "\n",
    "import numpy as np\n",
    "c=np.array([4,5,6,11,19,20])\n",
    "np.extract(c>5,c)"
   ]
  },
  {
   "cell_type": "code",
   "execution_count": 7,
   "id": "038cafa3-97a9-4a34-8798-e07c866d36bf",
   "metadata": {},
   "outputs": [
    {
     "name": "stdout",
     "output_type": "stream",
     "text": [
      "[  3   4   5 100   6   7   8   9]\n"
     ]
    }
   ],
   "source": [
    "### np.insert(): \n",
    "\n",
    "###  SYNTAX: np.insert(array_name,index,item)\n",
    "\n",
    "### It will insert the element into numpy array at the particular position.\n",
    "import numpy as np\n",
    "q=np.array([3,4,5,6,7,8,9])\n",
    "r=np.insert(q,3,100)\n",
    "print(r)"
   ]
  },
  {
   "cell_type": "code",
   "execution_count": 66,
   "id": "c6e0165e-9de3-421f-a446-490e06097fee",
   "metadata": {},
   "outputs": [
    {
     "name": "stdout",
     "output_type": "stream",
     "text": [
      "[ 45  67  89  90 100   1   2   3   4]\n"
     ]
    }
   ],
   "source": [
    "### np.concatenate():\n",
    "\n",
    "###  SYNTAX: np.concatenate(array_name,[i1,i2,.....])\n",
    "\n",
    "### It is used to concatenate the numpy array to another numpy array.\n",
    "import numpy as np\n",
    "array1=np.array([45,67,89,90,100])\n",
    "array2=np.concatenate((array1,np.array([1,2,3,4])))\n",
    "print(array2)"
   ]
  },
  {
   "cell_type": "code",
   "execution_count": 78,
   "id": "b50aaa9a-1246-4f99-9115-88370f26f97a",
   "metadata": {},
   "outputs": [
    {
     "data": {
      "text/plain": [
       "6"
      ]
     },
     "execution_count": 78,
     "metadata": {},
     "output_type": "execute_result"
    }
   ],
   "source": [
    "### Reshaping:\n",
    "\n",
    "###  SYNTAX: array_name=np.array([]).reshape(x_dim,y_dim)\n",
    "                 #   array_name.reshape()\n",
    "      #  --->Condition:\n",
    "                   # --->No.of elements before reshaping and after reshaping must be equal.\n",
    "\n",
    "import numpy as np\n",
    "a1=np.array([1,2,3,4,5,6])\n",
    "a1.size"
   ]
  },
  {
   "cell_type": "code",
   "execution_count": 92,
   "id": "8357761e-0135-42dd-9ba0-396623d4a415",
   "metadata": {},
   "outputs": [
    {
     "data": {
      "text/plain": [
       "array([[1],\n",
       "       [2],\n",
       "       [3],\n",
       "       [4],\n",
       "       [5],\n",
       "       [6]])"
      ]
     },
     "execution_count": 92,
     "metadata": {},
     "output_type": "execute_result"
    }
   ],
   "source": [
    "a1.reshape(6,1)"
   ]
  },
  {
   "cell_type": "code",
   "execution_count": null,
   "id": "731fe82a-455a-401b-8829-19274f5a68f5",
   "metadata": {},
   "outputs": [],
   "source": [
    "12. Accessing the  elements in numpy array:"
   ]
  },
  {
   "cell_type": "code",
   "execution_count": 17,
   "id": "b4ad02df-9229-4180-9022-19a306fa6aa8",
   "metadata": {},
   "outputs": [
    {
     "data": {
      "text/plain": [
       "4"
      ]
     },
     "execution_count": 17,
     "metadata": {},
     "output_type": "execute_result"
    }
   ],
   "source": [
    "import numpy as np\n",
    "a=np.array([2,3,4,5,6,7,8])\n",
    "a[2]"
   ]
  },
  {
   "cell_type": "code",
   "execution_count": 19,
   "id": "d6e5ed22-5d95-4b44-81d4-b1f4191c364c",
   "metadata": {},
   "outputs": [
    {
     "ename": "TypeError",
     "evalue": "Field elements must be 2- or 3-tuples, got '3'",
     "output_type": "error",
     "traceback": [
      "\u001b[1;31m---------------------------------------------------------------------------\u001b[0m",
      "\u001b[1;31mTypeError\u001b[0m                                 Traceback (most recent call last)",
      "Cell \u001b[1;32mIn[19], line 2\u001b[0m\n\u001b[0;32m      1\u001b[0m \u001b[38;5;28;01mimport\u001b[39;00m \u001b[38;5;21;01mnumpy\u001b[39;00m \u001b[38;5;28;01mas\u001b[39;00m \u001b[38;5;21;01mnp\u001b[39;00m\n\u001b[1;32m----> 2\u001b[0m b\u001b[38;5;241m=\u001b[39mnp\u001b[38;5;241m.\u001b[39marray([\u001b[38;5;241m1\u001b[39m,\u001b[38;5;241m2\u001b[39m],[\u001b[38;5;241m3\u001b[39m,\u001b[38;5;241m4\u001b[39m])\n\u001b[0;32m      3\u001b[0m b[\u001b[38;5;241m1\u001b[39m][\u001b[38;5;241m0\u001b[39m]\n",
      "\u001b[1;31mTypeError\u001b[0m: Field elements must be 2- or 3-tuples, got '3'"
     ]
    }
   ],
   "source": [
    "import numpy as np\n",
    "b=np.array([1,2],[3,4])\n",
    "b[1][0]"
   ]
  }
 ],
 "metadata": {
  "kernelspec": {
   "display_name": "Python 3 (ipykernel)",
   "language": "python",
   "name": "python3"
  },
  "language_info": {
   "codemirror_mode": {
    "name": "ipython",
    "version": 3
   },
   "file_extension": ".py",
   "mimetype": "text/x-python",
   "name": "python",
   "nbconvert_exporter": "python",
   "pygments_lexer": "ipython3",
   "version": "3.12.7"
  }
 },
 "nbformat": 4,
 "nbformat_minor": 5
}
